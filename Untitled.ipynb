{
 "cells": [
  {
   "cell_type": "code",
   "execution_count": null,
   "id": "83b1a34f",
   "metadata": {},
   "outputs": [],
   "source": [
    "req_header = {\"X-Project-Id\": \"2c2e6872-bfc4-48e4-aeb7-2e9255923d61\",\n",
    "              \"X-Auth-Username\": \"data_user\",\n",
    "              \"X-Auth-Userid\": user_name,\n",
    "              \"X-Auth-Email\": user_email,"
   ]
  }
 ],
 "metadata": {
  "kernelspec": {
   "display_name": "Python 3",
   "language": "python",
   "name": "python3"
  },
  "language_info": {
   "codemirror_mode": {
    "name": "ipython",
    "version": 3
   },
   "file_extension": ".py",
   "mimetype": "text/x-python",
   "name": "python",
   "nbconvert_exporter": "python",
   "pygments_lexer": "ipython3",
   "version": "3.6.13"
  }
 },
 "nbformat": 4,
 "nbformat_minor": 5
}
