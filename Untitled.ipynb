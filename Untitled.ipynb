{
 "cells": [
  {
   "cell_type": "code",
   "execution_count": 1,
   "id": "70c756fb",
   "metadata": {},
   "outputs": [],
   "source": [
    "req_header = {\"X-Project-Id\": \"2c2e6872-bfc4-48e4-aeb7-2e9255923d61\",\n",
    "              \"X-Auth-Username\": \"data_user\",\n",
    "              \"X-Auth-Userid\": \"data_user\",\n",
    "              \"X-Auth-Email\": \"data_user@lntinfotech.com\"}"
   ]
  },
  {
   "cell_type": "code",
   "execution_count": 2,
   "id": "9a6e8ac2",
   "metadata": {},
   "outputs": [],
   "source": [
    "url=\"https://ai-logistics.dev.lti-mosaic.com/vcs/api/v1/repo/2c2e6872-bfc4-48e4-aeb7-2e9255923d61/file/README.md/branch/\""
   ]
  },
  {
   "cell_type": "code",
   "execution_count": 5,
   "id": "52b36085",
   "metadata": {},
   "outputs": [
    {
     "name": "stderr",
     "output_type": "stream",
     "text": [
      "/opt/conda/lib/python3.6/site-packages/urllib3/connectionpool.py:1020: InsecureRequestWarning: Unverified HTTPS request is being made to host 'ai-logistics.dev.lti-mosaic.com'. Adding certificate verification is strongly advised. See: https://urllib3.readthedocs.io/en/1.26.x/advanced-usage.html#ssl-warnings\n",
      "  InsecureRequestWarning,\n",
      "/opt/conda/lib/python3.6/site-packages/urllib3/connectionpool.py:1020: InsecureRequestWarning: Unverified HTTPS request is being made to host 'ai-logistics.dev.lti-mosaic.com'. Adding certificate verification is strongly advised. See: https://urllib3.readthedocs.io/en/1.26.x/advanced-usage.html#ssl-warnings\n",
      "  InsecureRequestWarning,\n",
      "/opt/conda/lib/python3.6/site-packages/urllib3/connectionpool.py:1020: InsecureRequestWarning: Unverified HTTPS request is being made to host 'keycloak.dev.lti-mosaic.com'. Adding certificate verification is strongly advised. See: https://urllib3.readthedocs.io/en/1.26.x/advanced-usage.html#ssl-warnings\n",
      "  InsecureRequestWarning,\n"
     ]
    }
   ],
   "source": [
    "req_response = requests.get(url, headers=req_header, verify = False)"
   ]
  },
  {
   "cell_type": "code",
   "execution_count": null,
   "id": "60cc9051",
   "metadata": {},
   "outputs": [],
   "source": [
    "req_response"
   ]
  },
  {
   "cell_type": "code",
   "execution_count": 4,
   "id": "9e2ee2bb",
   "metadata": {},
   "outputs": [
    {
     "name": "stderr",
     "output_type": "stream",
     "text": [
      "/opt/conda/lib/python3.6/site-packages/requests/__init__.py:91: RequestsDependencyWarning: urllib3 (1.26.6) or chardet (3.0.4) doesn't match a supported version!\n",
      "  RequestsDependencyWarning)\n"
     ]
    }
   ],
   "source": [
    "import requests"
   ]
  },
  {
   "cell_type": "code",
   "execution_count": null,
   "id": "7e215ebe",
   "metadata": {},
   "outputs": [],
   "source": []
  }
 ],
 "metadata": {
  "kernelspec": {
   "display_name": "Python 3",
   "language": "python",
   "name": "python3"
  },
  "language_info": {
   "codemirror_mode": {
    "name": "ipython",
    "version": 3
   },
   "file_extension": ".py",
   "mimetype": "text/x-python",
   "name": "python",
   "nbconvert_exporter": "python",
   "pygments_lexer": "ipython3",
   "version": "3.6.13"
  }
 },
 "nbformat": 4,
 "nbformat_minor": 5
}
